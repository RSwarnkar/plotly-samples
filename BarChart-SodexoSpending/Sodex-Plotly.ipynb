{
 "cells": [
  {
   "cell_type": "code",
   "execution_count": 1,
   "metadata": {},
   "outputs": [],
   "source": [
    "import numpy as np\n",
    "import pandas as pd\n",
    "import plotly.offline as pyo\n",
    "import plotly.graph_objs as go\n"
   ]
  },
  {
   "cell_type": "code",
   "execution_count": 8,
   "metadata": {},
   "outputs": [],
   "source": [
    "df = pd.read_csv(\"sodexo-spending.csv\", sep=\";\", parse_dates=['Timestamp'])"
   ]
  },
  {
   "cell_type": "code",
   "execution_count": 9,
   "metadata": {},
   "outputs": [
    {
     "data": {
      "text/html": [
       "<div>\n",
       "<style scoped>\n",
       "    .dataframe tbody tr th:only-of-type {\n",
       "        vertical-align: middle;\n",
       "    }\n",
       "\n",
       "    .dataframe tbody tr th {\n",
       "        vertical-align: top;\n",
       "    }\n",
       "\n",
       "    .dataframe thead th {\n",
       "        text-align: right;\n",
       "    }\n",
       "</style>\n",
       "<table border=\"1\" class=\"dataframe\">\n",
       "  <thead>\n",
       "    <tr style=\"text-align: right;\">\n",
       "      <th></th>\n",
       "      <th>Timestamp</th>\n",
       "      <th>Card type</th>\n",
       "      <th>Transaction ID</th>\n",
       "      <th>Transaction Details</th>\n",
       "      <th>Credit INR</th>\n",
       "      <th>Debit INR</th>\n",
       "      <th>Previous Balance INR</th>\n",
       "      <th>New Balance INR</th>\n",
       "    </tr>\n",
       "  </thead>\n",
       "  <tbody>\n",
       "    <tr>\n",
       "      <th>0</th>\n",
       "      <td>2019-06-27 14:20:00</td>\n",
       "      <td>Meal card</td>\n",
       "      <td>115713806530</td>\n",
       "      <td>SODEXO FOOD SOLUTIONS (I) PVT LTD</td>\n",
       "      <td>0.0</td>\n",
       "      <td>65.0</td>\n",
       "      <td>1591.0</td>\n",
       "      <td>1526.0</td>\n",
       "    </tr>\n",
       "    <tr>\n",
       "      <th>1</th>\n",
       "      <td>2019-06-27 11:43:57</td>\n",
       "      <td>Meal card</td>\n",
       "      <td>115715777246</td>\n",
       "      <td>SODEXO FOOD SOLUTIONS (I) PVT LTD</td>\n",
       "      <td>0.0</td>\n",
       "      <td>38.0</td>\n",
       "      <td>1629.0</td>\n",
       "      <td>1591.0</td>\n",
       "    </tr>\n",
       "    <tr>\n",
       "      <th>2</th>\n",
       "      <td>2019-06-27 09:37:52</td>\n",
       "      <td>Meal card</td>\n",
       "      <td>115710769258</td>\n",
       "      <td>SODEXO FOOD SOLUTIONS (I) PVT LTD</td>\n",
       "      <td>0.0</td>\n",
       "      <td>20.0</td>\n",
       "      <td>1649.0</td>\n",
       "      <td>1629.0</td>\n",
       "    </tr>\n",
       "    <tr>\n",
       "      <th>3</th>\n",
       "      <td>2019-06-27 09:29:12</td>\n",
       "      <td>Meal card</td>\n",
       "      <td>115713769003</td>\n",
       "      <td>SODEXO FOOD SOLUTIONS (I) PVT LTD</td>\n",
       "      <td>0.0</td>\n",
       "      <td>25.0</td>\n",
       "      <td>1674.0</td>\n",
       "      <td>1649.0</td>\n",
       "    </tr>\n",
       "    <tr>\n",
       "      <th>4</th>\n",
       "      <td>2019-06-26 16:40:40</td>\n",
       "      <td>Meal card</td>\n",
       "      <td>115710666673</td>\n",
       "      <td>SODEXO FOOD SOLUTIONS (I) PVT LTD</td>\n",
       "      <td>0.0</td>\n",
       "      <td>20.0</td>\n",
       "      <td>1694.0</td>\n",
       "      <td>1674.0</td>\n",
       "    </tr>\n",
       "  </tbody>\n",
       "</table>\n",
       "</div>"
      ],
      "text/plain": [
       "            Timestamp  Card type  Transaction ID  \\\n",
       "0 2019-06-27 14:20:00  Meal card    115713806530   \n",
       "1 2019-06-27 11:43:57  Meal card    115715777246   \n",
       "2 2019-06-27 09:37:52  Meal card    115710769258   \n",
       "3 2019-06-27 09:29:12  Meal card    115713769003   \n",
       "4 2019-06-26 16:40:40  Meal card    115710666673   \n",
       "\n",
       "                 Transaction Details  Credit INR  Debit INR  \\\n",
       "0  SODEXO FOOD SOLUTIONS (I) PVT LTD         0.0       65.0   \n",
       "1  SODEXO FOOD SOLUTIONS (I) PVT LTD         0.0       38.0   \n",
       "2  SODEXO FOOD SOLUTIONS (I) PVT LTD         0.0       20.0   \n",
       "3  SODEXO FOOD SOLUTIONS (I) PVT LTD         0.0       25.0   \n",
       "4  SODEXO FOOD SOLUTIONS (I) PVT LTD         0.0       20.0   \n",
       "\n",
       "   Previous Balance INR  New Balance INR  \n",
       "0                1591.0           1526.0  \n",
       "1                1629.0           1591.0  \n",
       "2                1649.0           1629.0  \n",
       "3                1674.0           1649.0  \n",
       "4                1694.0           1674.0  "
      ]
     },
     "execution_count": 9,
     "metadata": {},
     "output_type": "execute_result"
    }
   ],
   "source": [
    "df.head()"
   ]
  },
  {
   "cell_type": "code",
   "execution_count": 10,
   "metadata": {},
   "outputs": [
    {
     "name": "stdout",
     "output_type": "stream",
     "text": [
      "<class 'pandas.core.frame.DataFrame'>\n",
      "RangeIndex: 494 entries, 0 to 493\n",
      "Data columns (total 8 columns):\n",
      "Timestamp               494 non-null datetime64[ns]\n",
      "Card type               494 non-null object\n",
      "Transaction ID          494 non-null int64\n",
      "Transaction Details     494 non-null object\n",
      "Credit INR              494 non-null float64\n",
      "Debit INR               494 non-null float64\n",
      "Previous Balance INR    494 non-null float64\n",
      "New Balance INR         494 non-null float64\n",
      "dtypes: datetime64[ns](1), float64(4), int64(1), object(2)\n",
      "memory usage: 31.0+ KB\n"
     ]
    }
   ],
   "source": [
    "df.info()"
   ]
  },
  {
   "cell_type": "code",
   "execution_count": 11,
   "metadata": {},
   "outputs": [
    {
     "data": {
      "text/plain": [
       "Timestamp               datetime64[ns]\n",
       "Card type                       object\n",
       "Transaction ID                   int64\n",
       "Transaction Details             object\n",
       "Credit INR                     float64\n",
       "Debit INR                      float64\n",
       "Previous Balance INR           float64\n",
       "New Balance INR                float64\n",
       "dtype: object"
      ]
     },
     "execution_count": 11,
     "metadata": {},
     "output_type": "execute_result"
    }
   ],
   "source": [
    "df.dtypes"
   ]
  },
  {
   "cell_type": "code",
   "execution_count": 12,
   "metadata": {},
   "outputs": [
    {
     "data": {
      "text/plain": [
       "0   2019-06-27 14:20:00\n",
       "1   2019-06-27 11:43:57\n",
       "2   2019-06-27 09:37:52\n",
       "3   2019-06-27 09:29:12\n",
       "4   2019-06-26 16:40:40\n",
       "Name: Timestamp, dtype: datetime64[ns]"
      ]
     },
     "execution_count": 12,
     "metadata": {},
     "output_type": "execute_result"
    }
   ],
   "source": [
    "df['Timestamp'].head()"
   ]
  },
  {
   "cell_type": "code",
   "execution_count": 14,
   "metadata": {},
   "outputs": [],
   "source": [
    "df.sort_values(by=['Timestamp'], inplace=True, ascending=False)"
   ]
  },
  {
   "cell_type": "code",
   "execution_count": 15,
   "metadata": {},
   "outputs": [
    {
     "data": {
      "text/html": [
       "<div>\n",
       "<style scoped>\n",
       "    .dataframe tbody tr th:only-of-type {\n",
       "        vertical-align: middle;\n",
       "    }\n",
       "\n",
       "    .dataframe tbody tr th {\n",
       "        vertical-align: top;\n",
       "    }\n",
       "\n",
       "    .dataframe thead th {\n",
       "        text-align: right;\n",
       "    }\n",
       "</style>\n",
       "<table border=\"1\" class=\"dataframe\">\n",
       "  <thead>\n",
       "    <tr style=\"text-align: right;\">\n",
       "      <th></th>\n",
       "      <th>Timestamp</th>\n",
       "      <th>Card type</th>\n",
       "      <th>Transaction ID</th>\n",
       "      <th>Transaction Details</th>\n",
       "      <th>Credit INR</th>\n",
       "      <th>Debit INR</th>\n",
       "      <th>Previous Balance INR</th>\n",
       "      <th>New Balance INR</th>\n",
       "    </tr>\n",
       "  </thead>\n",
       "  <tbody>\n",
       "    <tr>\n",
       "      <th>367</th>\n",
       "      <td>2020-12-03 13:10:36</td>\n",
       "      <td>Meal card</td>\n",
       "      <td>147329056422</td>\n",
       "      <td>SODEXO FOOD SOLUTIONS (I) PVT LTD</td>\n",
       "      <td>0.0</td>\n",
       "      <td>65.0</td>\n",
       "      <td>2084.0</td>\n",
       "      <td>2019.0</td>\n",
       "    </tr>\n",
       "    <tr>\n",
       "      <th>368</th>\n",
       "      <td>2020-12-03 10:08:57</td>\n",
       "      <td>Meal card</td>\n",
       "      <td>147325041014</td>\n",
       "      <td>SODEXO FOOD SOLUTIONS (I) PVT LTD</td>\n",
       "      <td>0.0</td>\n",
       "      <td>25.0</td>\n",
       "      <td>2109.0</td>\n",
       "      <td>2084.0</td>\n",
       "    </tr>\n",
       "    <tr>\n",
       "      <th>416</th>\n",
       "      <td>2020-12-02 16:44:33</td>\n",
       "      <td>Meal card</td>\n",
       "      <td>144303525066</td>\n",
       "      <td>SODEXO FOOD SOLUTIONS (I) PVT LTD</td>\n",
       "      <td>0.0</td>\n",
       "      <td>35.0</td>\n",
       "      <td>2296.0</td>\n",
       "      <td>2261.0</td>\n",
       "    </tr>\n",
       "    <tr>\n",
       "      <th>417</th>\n",
       "      <td>2020-12-02 13:08:53</td>\n",
       "      <td>Meal card</td>\n",
       "      <td>144369495657</td>\n",
       "      <td>SODEXO FOOD SOLUTIONS (I) PVT LTD</td>\n",
       "      <td>0.0</td>\n",
       "      <td>75.0</td>\n",
       "      <td>2371.0</td>\n",
       "      <td>2296.0</td>\n",
       "    </tr>\n",
       "    <tr>\n",
       "      <th>418</th>\n",
       "      <td>2020-12-02 10:08:20</td>\n",
       "      <td>Meal card</td>\n",
       "      <td>144413479394</td>\n",
       "      <td>SODEXO FOOD SOLUTIONS (I) PVT LTD</td>\n",
       "      <td>0.0</td>\n",
       "      <td>35.0</td>\n",
       "      <td>2406.0</td>\n",
       "      <td>2371.0</td>\n",
       "    </tr>\n",
       "  </tbody>\n",
       "</table>\n",
       "</div>"
      ],
      "text/plain": [
       "              Timestamp  Card type  Transaction ID  \\\n",
       "367 2020-12-03 13:10:36  Meal card    147329056422   \n",
       "368 2020-12-03 10:08:57  Meal card    147325041014   \n",
       "416 2020-12-02 16:44:33  Meal card    144303525066   \n",
       "417 2020-12-02 13:08:53  Meal card    144369495657   \n",
       "418 2020-12-02 10:08:20  Meal card    144413479394   \n",
       "\n",
       "                   Transaction Details  Credit INR  Debit INR  \\\n",
       "367  SODEXO FOOD SOLUTIONS (I) PVT LTD         0.0       65.0   \n",
       "368  SODEXO FOOD SOLUTIONS (I) PVT LTD         0.0       25.0   \n",
       "416  SODEXO FOOD SOLUTIONS (I) PVT LTD         0.0       35.0   \n",
       "417  SODEXO FOOD SOLUTIONS (I) PVT LTD         0.0       75.0   \n",
       "418  SODEXO FOOD SOLUTIONS (I) PVT LTD         0.0       35.0   \n",
       "\n",
       "     Previous Balance INR  New Balance INR  \n",
       "367                2084.0           2019.0  \n",
       "368                2109.0           2084.0  \n",
       "416                2296.0           2261.0  \n",
       "417                2371.0           2296.0  \n",
       "418                2406.0           2371.0  "
      ]
     },
     "execution_count": 15,
     "metadata": {},
     "output_type": "execute_result"
    }
   ],
   "source": [
    "df.head()"
   ]
  },
  {
   "cell_type": "code",
   "execution_count": 16,
   "metadata": {},
   "outputs": [
    {
     "data": {
      "text/html": [
       "<div>\n",
       "<style scoped>\n",
       "    .dataframe tbody tr th:only-of-type {\n",
       "        vertical-align: middle;\n",
       "    }\n",
       "\n",
       "    .dataframe tbody tr th {\n",
       "        vertical-align: top;\n",
       "    }\n",
       "\n",
       "    .dataframe thead th {\n",
       "        text-align: right;\n",
       "    }\n",
       "</style>\n",
       "<table border=\"1\" class=\"dataframe\">\n",
       "  <thead>\n",
       "    <tr style=\"text-align: right;\">\n",
       "      <th></th>\n",
       "      <th>Timestamp</th>\n",
       "      <th>Card type</th>\n",
       "      <th>Transaction ID</th>\n",
       "      <th>Transaction Details</th>\n",
       "      <th>Credit INR</th>\n",
       "      <th>Debit INR</th>\n",
       "      <th>Previous Balance INR</th>\n",
       "      <th>New Balance INR</th>\n",
       "    </tr>\n",
       "  </thead>\n",
       "  <tbody>\n",
       "    <tr>\n",
       "      <th>282</th>\n",
       "      <td>2019-01-08 11:17:06</td>\n",
       "      <td>Meal card</td>\n",
       "      <td>1176981849883</td>\n",
       "      <td>SODEXO FOOD SOLUTIONS (I) PVT LTD</td>\n",
       "      <td>0.0</td>\n",
       "      <td>38.0</td>\n",
       "      <td>1158.0</td>\n",
       "      <td>1120.0</td>\n",
       "    </tr>\n",
       "    <tr>\n",
       "      <th>361</th>\n",
       "      <td>2019-01-07 15:35:57</td>\n",
       "      <td>Meal card</td>\n",
       "      <td>1157121312866</td>\n",
       "      <td>SODEXO FOOD SOLUTIONS (I) PVT LTD</td>\n",
       "      <td>0.0</td>\n",
       "      <td>10.0</td>\n",
       "      <td>1412.0</td>\n",
       "      <td>1402.0</td>\n",
       "    </tr>\n",
       "    <tr>\n",
       "      <th>362</th>\n",
       "      <td>2019-01-07 15:09:30</td>\n",
       "      <td>Meal card</td>\n",
       "      <td>1157851303674</td>\n",
       "      <td>SODEXO FOOD SOLUTIONS (I) PVT LTD</td>\n",
       "      <td>0.0</td>\n",
       "      <td>76.0</td>\n",
       "      <td>1488.0</td>\n",
       "      <td>1412.0</td>\n",
       "    </tr>\n",
       "    <tr>\n",
       "      <th>363</th>\n",
       "      <td>2019-01-07 11:11:23</td>\n",
       "      <td>Meal card</td>\n",
       "      <td>1157121272337</td>\n",
       "      <td>SODEXO FOOD SOLUTIONS (I) PVT LTD</td>\n",
       "      <td>0.0</td>\n",
       "      <td>10.0</td>\n",
       "      <td>1498.0</td>\n",
       "      <td>1488.0</td>\n",
       "    </tr>\n",
       "    <tr>\n",
       "      <th>364</th>\n",
       "      <td>2019-01-07 10:52:25</td>\n",
       "      <td>Meal card</td>\n",
       "      <td>1157151266192</td>\n",
       "      <td>SODEXO FOOD SOLUTIONS (I) PVT LTD</td>\n",
       "      <td>0.0</td>\n",
       "      <td>28.0</td>\n",
       "      <td>1526.0</td>\n",
       "      <td>1498.0</td>\n",
       "    </tr>\n",
       "  </tbody>\n",
       "</table>\n",
       "</div>"
      ],
      "text/plain": [
       "              Timestamp  Card type  Transaction ID  \\\n",
       "282 2019-01-08 11:17:06  Meal card   1176981849883   \n",
       "361 2019-01-07 15:35:57  Meal card   1157121312866   \n",
       "362 2019-01-07 15:09:30  Meal card   1157851303674   \n",
       "363 2019-01-07 11:11:23  Meal card   1157121272337   \n",
       "364 2019-01-07 10:52:25  Meal card   1157151266192   \n",
       "\n",
       "                   Transaction Details  Credit INR  Debit INR  \\\n",
       "282  SODEXO FOOD SOLUTIONS (I) PVT LTD         0.0       38.0   \n",
       "361  SODEXO FOOD SOLUTIONS (I) PVT LTD         0.0       10.0   \n",
       "362  SODEXO FOOD SOLUTIONS (I) PVT LTD         0.0       76.0   \n",
       "363  SODEXO FOOD SOLUTIONS (I) PVT LTD         0.0       10.0   \n",
       "364  SODEXO FOOD SOLUTIONS (I) PVT LTD         0.0       28.0   \n",
       "\n",
       "     Previous Balance INR  New Balance INR  \n",
       "282                1158.0           1120.0  \n",
       "361                1412.0           1402.0  \n",
       "362                1488.0           1412.0  \n",
       "363                1498.0           1488.0  \n",
       "364                1526.0           1498.0  "
      ]
     },
     "execution_count": 16,
     "metadata": {},
     "output_type": "execute_result"
    }
   ],
   "source": [
    "df.tail()"
   ]
  },
  {
   "cell_type": "code",
   "execution_count": 17,
   "metadata": {},
   "outputs": [
    {
     "data": {
      "text/html": [
       "<div>\n",
       "<style scoped>\n",
       "    .dataframe tbody tr th:only-of-type {\n",
       "        vertical-align: middle;\n",
       "    }\n",
       "\n",
       "    .dataframe tbody tr th {\n",
       "        vertical-align: top;\n",
       "    }\n",
       "\n",
       "    .dataframe thead th {\n",
       "        text-align: right;\n",
       "    }\n",
       "</style>\n",
       "<table border=\"1\" class=\"dataframe\">\n",
       "  <thead>\n",
       "    <tr style=\"text-align: right;\">\n",
       "      <th></th>\n",
       "      <th>Transaction ID</th>\n",
       "      <th>Credit INR</th>\n",
       "      <th>Debit INR</th>\n",
       "      <th>Previous Balance INR</th>\n",
       "      <th>New Balance INR</th>\n",
       "    </tr>\n",
       "  </thead>\n",
       "  <tbody>\n",
       "    <tr>\n",
       "      <th>count</th>\n",
       "      <td>4.940000e+02</td>\n",
       "      <td>494.000000</td>\n",
       "      <td>494.000000</td>\n",
       "      <td>494.000000</td>\n",
       "      <td>494.000000</td>\n",
       "    </tr>\n",
       "    <tr>\n",
       "      <th>mean</th>\n",
       "      <td>5.220430e+11</td>\n",
       "      <td>40.617409</td>\n",
       "      <td>36.779352</td>\n",
       "      <td>2358.599190</td>\n",
       "      <td>2362.437247</td>\n",
       "    </tr>\n",
       "    <tr>\n",
       "      <th>std</th>\n",
       "      <td>5.426413e+11</td>\n",
       "      <td>281.942108</td>\n",
       "      <td>35.879417</td>\n",
       "      <td>900.041539</td>\n",
       "      <td>893.985531</td>\n",
       "    </tr>\n",
       "    <tr>\n",
       "      <th>min</th>\n",
       "      <td>1.157084e+11</td>\n",
       "      <td>0.000000</td>\n",
       "      <td>0.000000</td>\n",
       "      <td>0.000000</td>\n",
       "      <td>242.000000</td>\n",
       "    </tr>\n",
       "    <tr>\n",
       "      <th>25%</th>\n",
       "      <td>1.242075e+11</td>\n",
       "      <td>0.000000</td>\n",
       "      <td>20.000000</td>\n",
       "      <td>1674.500000</td>\n",
       "      <td>1678.000000</td>\n",
       "    </tr>\n",
       "    <tr>\n",
       "      <th>50%</th>\n",
       "      <td>1.407399e+11</td>\n",
       "      <td>0.000000</td>\n",
       "      <td>35.000000</td>\n",
       "      <td>2402.000000</td>\n",
       "      <td>2402.000000</td>\n",
       "    </tr>\n",
       "    <tr>\n",
       "      <th>75%</th>\n",
       "      <td>1.195401e+12</td>\n",
       "      <td>0.000000</td>\n",
       "      <td>40.000000</td>\n",
       "      <td>3004.500000</td>\n",
       "      <td>3004.500000</td>\n",
       "    </tr>\n",
       "    <tr>\n",
       "      <th>max</th>\n",
       "      <td>1.466991e+12</td>\n",
       "      <td>2000.000000</td>\n",
       "      <td>569.000000</td>\n",
       "      <td>4273.000000</td>\n",
       "      <td>4273.000000</td>\n",
       "    </tr>\n",
       "  </tbody>\n",
       "</table>\n",
       "</div>"
      ],
      "text/plain": [
       "       Transaction ID   Credit INR   Debit INR  Previous Balance INR  \\\n",
       "count    4.940000e+02   494.000000  494.000000            494.000000   \n",
       "mean     5.220430e+11    40.617409   36.779352           2358.599190   \n",
       "std      5.426413e+11   281.942108   35.879417            900.041539   \n",
       "min      1.157084e+11     0.000000    0.000000              0.000000   \n",
       "25%      1.242075e+11     0.000000   20.000000           1674.500000   \n",
       "50%      1.407399e+11     0.000000   35.000000           2402.000000   \n",
       "75%      1.195401e+12     0.000000   40.000000           3004.500000   \n",
       "max      1.466991e+12  2000.000000  569.000000           4273.000000   \n",
       "\n",
       "       New Balance INR  \n",
       "count       494.000000  \n",
       "mean       2362.437247  \n",
       "std         893.985531  \n",
       "min         242.000000  \n",
       "25%        1678.000000  \n",
       "50%        2402.000000  \n",
       "75%        3004.500000  \n",
       "max        4273.000000  "
      ]
     },
     "execution_count": 17,
     "metadata": {},
     "output_type": "execute_result"
    }
   ],
   "source": [
    "df.describe()"
   ]
  },
  {
   "cell_type": "code",
   "execution_count": 20,
   "metadata": {},
   "outputs": [],
   "source": [
    "import matplotlib\n",
    "%matplotlib inline\n",
    "\n"
   ]
  },
  {
   "cell_type": "code",
   "execution_count": 22,
   "metadata": {},
   "outputs": [
    {
     "data": {
      "text/plain": [
       "<matplotlib.axes._subplots.AxesSubplot at 0x243a1d3ebe0>"
      ]
     },
     "execution_count": 22,
     "metadata": {},
     "output_type": "execute_result"
    },
    {
     "data": {
      "image/png": "[encoded data removed]",
      "text/plain": [
       "<Figure size 432x288 with 1 Axes>"
      ]
     },
     "metadata": {
      "needs_background": "light"
     },
     "output_type": "display_data"
    }
   ],
   "source": [
    "df['Debit INR'].plot(kind='hist',bins=100)\n"
   ]
  },
  {
   "cell_type": "code",
   "execution_count": 25,
   "metadata": {},
   "outputs": [],
   "source": [
    "df['day_of_week'] = df['Timestamp'].dt.dayofweek\n",
    "\n",
    "days = {0:'MONDAY',1:'TUESDAY',2:'WEDNESDAY',3:'THURSDAY',4:'FRIDAY',5:'SATURDAY',6:'SUNDAY'}\n",
    "\n",
    "df['day_of_week'] = df['day_of_week'].apply(lambda x: days[x])\n",
    "\n"
   ]
  },
  {
   "cell_type": "code",
   "execution_count": 26,
   "metadata": {},
   "outputs": [
    {
     "data": {
      "text/html": [
       "<div>\n",
       "<style scoped>\n",
       "    .dataframe tbody tr th:only-of-type {\n",
       "        vertical-align: middle;\n",
       "    }\n",
       "\n",
       "    .dataframe tbody tr th {\n",
       "        vertical-align: top;\n",
       "    }\n",
       "\n",
       "    .dataframe thead th {\n",
       "        text-align: right;\n",
       "    }\n",
       "</style>\n",
       "<table border=\"1\" class=\"dataframe\">\n",
       "  <thead>\n",
       "    <tr style=\"text-align: right;\">\n",
       "      <th></th>\n",
       "      <th>Timestamp</th>\n",
       "      <th>Card type</th>\n",
       "      <th>Transaction ID</th>\n",
       "      <th>Transaction Details</th>\n",
       "      <th>Credit INR</th>\n",
       "      <th>Debit INR</th>\n",
       "      <th>Previous Balance INR</th>\n",
       "      <th>New Balance INR</th>\n",
       "      <th>day_of_week</th>\n",
       "    </tr>\n",
       "  </thead>\n",
       "  <tbody>\n",
       "    <tr>\n",
       "      <th>367</th>\n",
       "      <td>2020-12-03 13:10:36</td>\n",
       "      <td>Meal card</td>\n",
       "      <td>147329056422</td>\n",
       "      <td>SODEXO FOOD SOLUTIONS (I) PVT LTD</td>\n",
       "      <td>0.0</td>\n",
       "      <td>65.0</td>\n",
       "      <td>2084.0</td>\n",
       "      <td>2019.0</td>\n",
       "      <td>THURSDAY</td>\n",
       "    </tr>\n",
       "    <tr>\n",
       "      <th>368</th>\n",
       "      <td>2020-12-03 10:08:57</td>\n",
       "      <td>Meal card</td>\n",
       "      <td>147325041014</td>\n",
       "      <td>SODEXO FOOD SOLUTIONS (I) PVT LTD</td>\n",
       "      <td>0.0</td>\n",
       "      <td>25.0</td>\n",
       "      <td>2109.0</td>\n",
       "      <td>2084.0</td>\n",
       "      <td>THURSDAY</td>\n",
       "    </tr>\n",
       "    <tr>\n",
       "      <th>416</th>\n",
       "      <td>2020-12-02 16:44:33</td>\n",
       "      <td>Meal card</td>\n",
       "      <td>144303525066</td>\n",
       "      <td>SODEXO FOOD SOLUTIONS (I) PVT LTD</td>\n",
       "      <td>0.0</td>\n",
       "      <td>35.0</td>\n",
       "      <td>2296.0</td>\n",
       "      <td>2261.0</td>\n",
       "      <td>WEDNESDAY</td>\n",
       "    </tr>\n",
       "    <tr>\n",
       "      <th>417</th>\n",
       "      <td>2020-12-02 13:08:53</td>\n",
       "      <td>Meal card</td>\n",
       "      <td>144369495657</td>\n",
       "      <td>SODEXO FOOD SOLUTIONS (I) PVT LTD</td>\n",
       "      <td>0.0</td>\n",
       "      <td>75.0</td>\n",
       "      <td>2371.0</td>\n",
       "      <td>2296.0</td>\n",
       "      <td>WEDNESDAY</td>\n",
       "    </tr>\n",
       "    <tr>\n",
       "      <th>418</th>\n",
       "      <td>2020-12-02 10:08:20</td>\n",
       "      <td>Meal card</td>\n",
       "      <td>144413479394</td>\n",
       "      <td>SODEXO FOOD SOLUTIONS (I) PVT LTD</td>\n",
       "      <td>0.0</td>\n",
       "      <td>35.0</td>\n",
       "      <td>2406.0</td>\n",
       "      <td>2371.0</td>\n",
       "      <td>WEDNESDAY</td>\n",
       "    </tr>\n",
       "  </tbody>\n",
       "</table>\n",
       "</div>"
      ],
      "text/plain": [
       "              Timestamp  Card type  Transaction ID  \\\n",
       "367 2020-12-03 13:10:36  Meal card    147329056422   \n",
       "368 2020-12-03 10:08:57  Meal card    147325041014   \n",
       "416 2020-12-02 16:44:33  Meal card    144303525066   \n",
       "417 2020-12-02 13:08:53  Meal card    144369495657   \n",
       "418 2020-12-02 10:08:20  Meal card    144413479394   \n",
       "\n",
       "                   Transaction Details  Credit INR  Debit INR  \\\n",
       "367  SODEXO FOOD SOLUTIONS (I) PVT LTD         0.0       65.0   \n",
       "368  SODEXO FOOD SOLUTIONS (I) PVT LTD         0.0       25.0   \n",
       "416  SODEXO FOOD SOLUTIONS (I) PVT LTD         0.0       35.0   \n",
       "417  SODEXO FOOD SOLUTIONS (I) PVT LTD         0.0       75.0   \n",
       "418  SODEXO FOOD SOLUTIONS (I) PVT LTD         0.0       35.0   \n",
       "\n",
       "     Previous Balance INR  New Balance INR day_of_week  \n",
       "367                2084.0           2019.0    THURSDAY  \n",
       "368                2109.0           2084.0    THURSDAY  \n",
       "416                2296.0           2261.0   WEDNESDAY  \n",
       "417                2371.0           2296.0   WEDNESDAY  \n",
       "418                2406.0           2371.0   WEDNESDAY  "
      ]
     },
     "execution_count": 26,
     "metadata": {},
     "output_type": "execute_result"
    }
   ],
   "source": [
    "df.head()"
   ]
  },
  {
   "cell_type": "code",
   "execution_count": 59,
   "metadata": {},
   "outputs": [
    {
     "data": {
      "text/plain": [
       "3480.0"
      ]
     },
     "execution_count": 59,
     "metadata": {},
     "output_type": "execute_result"
    }
   ],
   "source": [
    "#f[df['day_of_week']=='THURSDAY'].sum()\n",
    "df[df['day_of_week']=='THURSDAY']['Debit INR'].sum()"
   ]
  },
  {
   "cell_type": "code",
   "execution_count": 64,
   "metadata": {},
   "outputs": [
    {
     "data": {
      "text/plain": [
       "array(['THURSDAY', 'WEDNESDAY', 'TUESDAY', 'MONDAY', 'FRIDAY', 'SATURDAY',\n",
       "       'SUNDAY'], dtype=object)"
      ]
     },
     "execution_count": 64,
     "metadata": {},
     "output_type": "execute_result"
    }
   ],
   "source": [
    "df['day_of_week'].unique()"
   ]
  },
  {
   "cell_type": "code",
   "execution_count": 65,
   "metadata": {},
   "outputs": [],
   "source": [
    "mydata = []\n",
    "\n",
    "xdata = ['MONDAY', 'TUESDAY', 'WEDNESDAY', 'THURSDAY', 'FRIDAY', 'SATURDAY', 'SUNDAY'] #df['day_of_week'].unique()\n",
    "ydata = []\n",
    "\n",
    "for day in ['MONDAY', 'TUESDAY', 'WEDNESDAY', 'THURSDAY', 'FRIDAY', 'SATURDAY', 'SUNDAY']:\n",
    "    ydata.append(df[df['day_of_week']==day]['Debit INR'].sum())\n",
    "\n",
    "trace = go.Bar(x=xdata, \n",
    "               y=ydata\n",
    "              )\n",
    "\n",
    "mydata.append(trace)\n",
    "\n",
    "mylayout = go.Layout(title=\"Sodexo Spending by Weekdays\")\n",
    "\n",
    "myfig = go.Figure(data=mydata, layout=mylayout)\n"
   ]
  },
  {
   "cell_type": "code",
   "execution_count": 66,
   "metadata": {},
   "outputs": [
    {
     "data": {
      "text/plain": [
       "'Sodexo-Spend-By-Days.html'"
      ]
     },
     "execution_count": 66,
     "metadata": {},
     "output_type": "execute_result"
    }
   ],
   "source": [
    "pyo.plot(myfig,filename='Sodexo-Spend-By-Days.html')"
   ]
  },
  {
   "cell_type": "code",
   "execution_count": 67,
   "metadata": {},
   "outputs": [
    {
     "data": {
      "text/plain": [
       "18169.0"
      ]
     },
     "execution_count": 67,
     "metadata": {},
     "output_type": "execute_result"
    }
   ],
   "source": [
    "# Total spendings yet\n",
    "df['Debit INR'].sum()"
   ]
  },
  {
   "cell_type": "code",
   "execution_count": 68,
   "metadata": {},
   "outputs": [
    {
     "data": {
      "text/plain": [
       "count    494.000000\n",
       "mean      36.779352\n",
       "std       35.879417\n",
       "min        0.000000\n",
       "25%       20.000000\n",
       "50%       35.000000\n",
       "75%       40.000000\n",
       "max      569.000000\n",
       "Name: Debit INR, dtype: float64"
      ]
     },
     "execution_count": 68,
     "metadata": {},
     "output_type": "execute_result"
    }
   ],
   "source": [
    "df[\"Debit INR\"].describe()"
   ]
  },
  {
   "cell_type": "code",
   "execution_count": 69,
   "metadata": {},
   "outputs": [
    {
     "data": {
      "text/html": [
       "<div>\n",
       "<style scoped>\n",
       "    .dataframe tbody tr th:only-of-type {\n",
       "        vertical-align: middle;\n",
       "    }\n",
       "\n",
       "    .dataframe tbody tr th {\n",
       "        vertical-align: top;\n",
       "    }\n",
       "\n",
       "    .dataframe thead th {\n",
       "        text-align: right;\n",
       "    }\n",
       "</style>\n",
       "<table border=\"1\" class=\"dataframe\">\n",
       "  <thead>\n",
       "    <tr style=\"text-align: right;\">\n",
       "      <th></th>\n",
       "      <th>Timestamp</th>\n",
       "      <th>Card type</th>\n",
       "      <th>Transaction ID</th>\n",
       "      <th>Transaction Details</th>\n",
       "      <th>Credit INR</th>\n",
       "      <th>Debit INR</th>\n",
       "      <th>Previous Balance INR</th>\n",
       "      <th>New Balance INR</th>\n",
       "      <th>day_of_week</th>\n",
       "    </tr>\n",
       "  </thead>\n",
       "  <tbody>\n",
       "    <tr>\n",
       "      <th>493</th>\n",
       "      <td>2020-01-01 15:39:48</td>\n",
       "      <td>Meal card</td>\n",
       "      <td>140328086946</td>\n",
       "      <td>DOMINO'S PIZZA</td>\n",
       "      <td>0.0</td>\n",
       "      <td>569.0</td>\n",
       "      <td>1934.0</td>\n",
       "      <td>1365.0</td>\n",
       "      <td>WEDNESDAY</td>\n",
       "    </tr>\n",
       "  </tbody>\n",
       "</table>\n",
       "</div>"
      ],
      "text/plain": [
       "              Timestamp  Card type  Transaction ID Transaction Details  \\\n",
       "493 2020-01-01 15:39:48  Meal card    140328086946      DOMINO'S PIZZA   \n",
       "\n",
       "     Credit INR  Debit INR  Previous Balance INR  New Balance INR day_of_week  \n",
       "493         0.0      569.0                1934.0           1365.0   WEDNESDAY  "
      ]
     },
     "execution_count": 69,
     "metadata": {},
     "output_type": "execute_result"
    }
   ],
   "source": [
    "#Highest transaction\n",
    "df[df['Debit INR']>=500]"
   ]
  },
  {
   "cell_type": "code",
   "execution_count": 70,
   "metadata": {},
   "outputs": [
    {
     "data": {
      "text/html": [
       "<div>\n",
       "<style scoped>\n",
       "    .dataframe tbody tr th:only-of-type {\n",
       "        vertical-align: middle;\n",
       "    }\n",
       "\n",
       "    .dataframe tbody tr th {\n",
       "        vertical-align: top;\n",
       "    }\n",
       "\n",
       "    .dataframe thead th {\n",
       "        text-align: right;\n",
       "    }\n",
       "</style>\n",
       "<table border=\"1\" class=\"dataframe\">\n",
       "  <thead>\n",
       "    <tr style=\"text-align: right;\">\n",
       "      <th></th>\n",
       "      <th>Timestamp</th>\n",
       "      <th>Card type</th>\n",
       "      <th>Transaction ID</th>\n",
       "      <th>Transaction Details</th>\n",
       "      <th>Credit INR</th>\n",
       "      <th>Debit INR</th>\n",
       "      <th>Previous Balance INR</th>\n",
       "      <th>New Balance INR</th>\n",
       "      <th>day_of_week</th>\n",
       "    </tr>\n",
       "  </thead>\n",
       "  <tbody>\n",
       "    <tr>\n",
       "      <th>493</th>\n",
       "      <td>2020-01-01 15:39:48</td>\n",
       "      <td>Meal card</td>\n",
       "      <td>140328086946</td>\n",
       "      <td>DOMINO'S PIZZA</td>\n",
       "      <td>0.0</td>\n",
       "      <td>569.0</td>\n",
       "      <td>1934.0</td>\n",
       "      <td>1365.0</td>\n",
       "      <td>WEDNESDAY</td>\n",
       "    </tr>\n",
       "    <tr>\n",
       "      <th>65</th>\n",
       "      <td>2019-02-12 20:29:37</td>\n",
       "      <td>Meal card</td>\n",
       "      <td>137718970850</td>\n",
       "      <td>PATEL R MART</td>\n",
       "      <td>0.0</td>\n",
       "      <td>340.0</td>\n",
       "      <td>2435.0</td>\n",
       "      <td>2095.0</td>\n",
       "      <td>TUESDAY</td>\n",
       "    </tr>\n",
       "    <tr>\n",
       "      <th>19</th>\n",
       "      <td>2019-12-24 17:06:10</td>\n",
       "      <td>Meal card</td>\n",
       "      <td>139776620419</td>\n",
       "      <td>SODEXO FOOD SOLUTIONS (I) PVT LTD</td>\n",
       "      <td>0.0</td>\n",
       "      <td>160.0</td>\n",
       "      <td>2273.0</td>\n",
       "      <td>2113.0</td>\n",
       "      <td>TUESDAY</td>\n",
       "    </tr>\n",
       "    <tr>\n",
       "      <th>210</th>\n",
       "      <td>2019-09-23 14:17:12</td>\n",
       "      <td>Meal card</td>\n",
       "      <td>121472969014</td>\n",
       "      <td>SODEXO FOOD SOLUTIONS (I) PVT LTD</td>\n",
       "      <td>0.0</td>\n",
       "      <td>116.0</td>\n",
       "      <td>3028.0</td>\n",
       "      <td>2912.0</td>\n",
       "      <td>MONDAY</td>\n",
       "    </tr>\n",
       "    <tr>\n",
       "      <th>409</th>\n",
       "      <td>2020-02-17 13:06:29</td>\n",
       "      <td>Meal card</td>\n",
       "      <td>1446581029357</td>\n",
       "      <td>SODEXO FOOD SOLUTIONS (I) PVT LTD</td>\n",
       "      <td>0.0</td>\n",
       "      <td>102.0</td>\n",
       "      <td>1908.0</td>\n",
       "      <td>1806.0</td>\n",
       "      <td>MONDAY</td>\n",
       "    </tr>\n",
       "    <tr>\n",
       "      <th>412</th>\n",
       "      <td>2020-02-14 12:54:58</td>\n",
       "      <td>Meal card</td>\n",
       "      <td>144658781853</td>\n",
       "      <td>SODEXO FOOD SOLUTIONS (I) PVT LTD</td>\n",
       "      <td>0.0</td>\n",
       "      <td>102.0</td>\n",
       "      <td>2115.0</td>\n",
       "      <td>2013.0</td>\n",
       "      <td>FRIDAY</td>\n",
       "    </tr>\n",
       "    <tr>\n",
       "      <th>370</th>\n",
       "      <td>2020-11-03 12:55:31</td>\n",
       "      <td>Meal card</td>\n",
       "      <td>1464232188377</td>\n",
       "      <td>SODEXO FOOD SOLUTIONS (I) PVT LTD</td>\n",
       "      <td>0.0</td>\n",
       "      <td>98.0</td>\n",
       "      <td>2242.0</td>\n",
       "      <td>2144.0</td>\n",
       "      <td>TUESDAY</td>\n",
       "    </tr>\n",
       "    <tr>\n",
       "      <th>379</th>\n",
       "      <td>2020-04-03 13:01:56</td>\n",
       "      <td>Meal card</td>\n",
       "      <td>1464031123120</td>\n",
       "      <td>SODEXO FOOD SOLUTIONS (I) PVT LTD</td>\n",
       "      <td>0.0</td>\n",
       "      <td>98.0</td>\n",
       "      <td>603.0</td>\n",
       "      <td>505.0</td>\n",
       "      <td>FRIDAY</td>\n",
       "    </tr>\n",
       "    <tr>\n",
       "      <th>365</th>\n",
       "      <td>2020-03-13 12:44:41</td>\n",
       "      <td>Meal card</td>\n",
       "      <td>147324196702</td>\n",
       "      <td>SODEXO FOOD SOLUTIONS (I) PVT LTD</td>\n",
       "      <td>0.0</td>\n",
       "      <td>98.0</td>\n",
       "      <td>1994.0</td>\n",
       "      <td>1896.0</td>\n",
       "      <td>FRIDAY</td>\n",
       "    </tr>\n",
       "    <tr>\n",
       "      <th>472</th>\n",
       "      <td>2020-10-01 12:58:46</td>\n",
       "      <td>Meal card</td>\n",
       "      <td>141032258281</td>\n",
       "      <td>SODEXO FOOD SOLUTIONS (I) PVT LTD</td>\n",
       "      <td>0.0</td>\n",
       "      <td>94.0</td>\n",
       "      <td>2580.0</td>\n",
       "      <td>2486.0</td>\n",
       "      <td>THURSDAY</td>\n",
       "    </tr>\n",
       "  </tbody>\n",
       "</table>\n",
       "</div>"
      ],
      "text/plain": [
       "              Timestamp  Card type  Transaction ID  \\\n",
       "493 2020-01-01 15:39:48  Meal card    140328086946   \n",
       "65  2019-02-12 20:29:37  Meal card    137718970850   \n",
       "19  2019-12-24 17:06:10  Meal card    139776620419   \n",
       "210 2019-09-23 14:17:12  Meal card    121472969014   \n",
       "409 2020-02-17 13:06:29  Meal card   1446581029357   \n",
       "412 2020-02-14 12:54:58  Meal card    144658781853   \n",
       "370 2020-11-03 12:55:31  Meal card   1464232188377   \n",
       "379 2020-04-03 13:01:56  Meal card   1464031123120   \n",
       "365 2020-03-13 12:44:41  Meal card    147324196702   \n",
       "472 2020-10-01 12:58:46  Meal card    141032258281   \n",
       "\n",
       "                   Transaction Details  Credit INR  Debit INR  \\\n",
       "493                     DOMINO'S PIZZA         0.0      569.0   \n",
       "65                        PATEL R MART         0.0      340.0   \n",
       "19   SODEXO FOOD SOLUTIONS (I) PVT LTD         0.0      160.0   \n",
       "210  SODEXO FOOD SOLUTIONS (I) PVT LTD         0.0      116.0   \n",
       "409  SODEXO FOOD SOLUTIONS (I) PVT LTD         0.0      102.0   \n",
       "412  SODEXO FOOD SOLUTIONS (I) PVT LTD         0.0      102.0   \n",
       "370  SODEXO FOOD SOLUTIONS (I) PVT LTD         0.0       98.0   \n",
       "379  SODEXO FOOD SOLUTIONS (I) PVT LTD         0.0       98.0   \n",
       "365  SODEXO FOOD SOLUTIONS (I) PVT LTD         0.0       98.0   \n",
       "472  SODEXO FOOD SOLUTIONS (I) PVT LTD         0.0       94.0   \n",
       "\n",
       "     Previous Balance INR  New Balance INR day_of_week  \n",
       "493                1934.0           1365.0   WEDNESDAY  \n",
       "65                 2435.0           2095.0     TUESDAY  \n",
       "19                 2273.0           2113.0     TUESDAY  \n",
       "210                3028.0           2912.0      MONDAY  \n",
       "409                1908.0           1806.0      MONDAY  \n",
       "412                2115.0           2013.0      FRIDAY  \n",
       "370                2242.0           2144.0     TUESDAY  \n",
       "379                 603.0            505.0      FRIDAY  \n",
       "365                1994.0           1896.0      FRIDAY  \n",
       "472                2580.0           2486.0    THURSDAY  "
      ]
     },
     "execution_count": 70,
     "metadata": {},
     "output_type": "execute_result"
    }
   ],
   "source": [
    "# Top 10 Transactions\n",
    "df.nlargest(10, 'Debit INR')"
   ]
  },
  {
   "cell_type": "code",
   "execution_count": 71,
   "metadata": {},
   "outputs": [],
   "source": [
    "# Calendar Heatmap"
   ]
  },
  {
   "cell_type": "code",
   "execution_count": null,
   "metadata": {},
   "outputs": [],
   "source": []
  }
 ],
 "metadata": {
  "kernelspec": {
   "display_name": "Python 3",
   "language": "python",
   "name": "python3"
  },
  "language_info": {
   "codemirror_mode": {
    "name": "ipython",
    "version": 3
   },
   "file_extension": ".py",
   "mimetype": "text/x-python",
   "name": "python",
   "nbconvert_exporter": "python",
   "pygments_lexer": "ipython3",
   "version": "3.7.2"
  }
 },
 "nbformat": 4,
 "nbformat_minor": 4
}
